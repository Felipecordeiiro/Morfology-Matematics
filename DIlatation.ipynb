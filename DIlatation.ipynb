{
 "cells": [
  {
   "cell_type": "code",
   "execution_count": 2,
   "metadata": {},
   "outputs": [],
   "source": [
    "import cv2 as cv\n",
    "import numpy as np\n",
    "from matplotlib import pyplot as plt"
   ]
  },
  {
   "cell_type": "code",
   "execution_count": 11,
   "metadata": {},
   "outputs": [],
   "source": [
    "def singleimg(img, title, size, mincolor=0, maxcolor=255):\n",
    "    fig, axis = plt.subplots(figsize=size)\n",
    "\n",
    "    axis.imshow(img,cmap='gray',vmin=mincolor, vmax=maxcolor)\n",
    "    axis.set_title(title, fontdict = {'fontsize': 22, 'fontweight': 'medium'})\n",
    "    plt.show()\n",
    "    \n",
    "def showmultiple_image(img_array, title_array, size, x, y, mincolor=0, maxcolor=255):\n",
    "    if(x<1 or y<1):\n",
    "        print('Error: X e Y nao podem ser zero ou abaixo de zero!')\n",
    "        return\n",
    "    elif(x == 1 and y == 1):\n",
    "        fig, axis = plt.subplots(y, figzise = size)\n",
    "        yId = 0\n",
    "        for img in img_array:\n",
    "            axis[yId].imshow(img, cmap='gray', vmin=mincolor, vmax=maxcolor)\n",
    "            axis[yId].set_achor('NW')\n",
    "            axis[yId].set_title(title_array[yId], fontdict = {'fontesize': 18, 'fontweight': 'medium'}, pad = 10)\n",
    "\n",
    "            yId += 1\n",
    "    elif(y == 1):\n",
    "        fig, axis = plt.subplots(1, x, figsize = size)\n",
    "        fig.suptitle(title_array)\n",
    "        xId = 0\n",
    "        for img in img_array:\n",
    "            axis[xId].imshow(img, cmap='gray', vmin=mincolor, vmax=maxcolor)\n",
    "            axis[xId].set_anchor('NW')\n",
    "            axis[xId].set_title(title_array[xId], fontdict = {'fontsize': 18, 'fontweight': 'medium'}, pad = 10)\n",
    "\n",
    "            xId += 1\n",
    "    else:\n",
    "        fig, axis = plt.subplots(y, x, figsize = size)\n",
    "        xId, yId, titleId = 0, 0, 0\n",
    "        for img in img_array:\n",
    "            axis[yId, xId].set_title(title_array[titleId], fontdict = {'fontsize': 18, 'fontweight': 'medium'}, pad = 10)\n",
    "            axis[yId, xId].set_anchor('NW')\n",
    "            axis[yId, xId].imshow(img, cmap='gray', vmin=mincolor, vmax=maxcolor)\n",
    "            if(len(title_array[titleId]) == 0):\n",
    "                axis[yId, xId].axis('off')\n",
    "\n",
    "            titleId += 1\n",
    "            xId += 1\n",
    "            if xId == x:\n",
    "                xId = 0\n",
    "                yId += 1\n",
    "    plt.show()"
   ]
  },
  {
   "cell_type": "code",
   "execution_count": null,
   "metadata": {},
   "outputs": [],
   "source": [
    "img_binarizada = cv.imread('image.jpg',0) \n",
    "singleimg(img_binarizada, 'Dilatation', (4,6))\n"
   ]
  },
  {
   "cell_type": "code",
   "execution_count": null,
   "metadata": {},
   "outputs": [],
   "source": [
    "kernel = np.ones((3,3), np.uint8)\n",
    "\n",
    "img_binarizada\n",
    "img_dilatation1 = cv.dilate(img_binarizada, kernel, iterations=1)\n",
    "img_dilatation2 = cv.dilate(img_binarizada, kernel, iterations=2)\n",
    "img_dilatation3 = cv.dilate(img_binarizada, kernel, iterations=3)\n",
    "img_dilatation4 = cv.dilate(img_binarizada, kernel, iterations=4)\n",
    "img_dilatation5 = cv.dilate(img_binarizada, kernel, iterations=5)\n",
    "img_dilatation6 = cv.dilate(img_binarizada, kernel, iterations=6)\n",
    "\n",
    "img_array = [img_binarizada,img_dilatation1,img_dilatation2,img_dilatation3, img_dilatation4, img_dilatation5, img_dilatation6]\n",
    "title_array = ['img_orig','img_dilate1','img_dilate2','img_dilate3','img_dilate4','img_dilate5','img_dilate6']\n",
    "showmultiple_image(img_array, title_array, (10,9), 3,2)"
   ]
  }
 ],
 "metadata": {
  "kernelspec": {
   "display_name": "Python 3",
   "language": "python",
   "name": "python3"
  },
  "language_info": {
   "codemirror_mode": {
    "name": "ipython",
    "version": 3
   },
   "file_extension": ".py",
   "mimetype": "text/x-python",
   "name": "python",
   "nbconvert_exporter": "python",
   "pygments_lexer": "ipython3",
   "version": "3.10.6"
  },
  "orig_nbformat": 4
 },
 "nbformat": 4,
 "nbformat_minor": 2
}
